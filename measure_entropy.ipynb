{
 "cells": [
  {
   "cell_type": "code",
   "execution_count": 1,
   "metadata": {},
   "outputs": [
    {
     "name": "stderr",
     "output_type": "stream",
     "text": [
      "/usr/lib/python3/dist-packages/scipy/__init__.py:146: UserWarning: A NumPy version >=1.17.3 and <1.25.0 is required for this version of SciPy (detected version 1.26.4\n",
      "  warnings.warn(f\"A NumPy version >={np_minversion} and <{np_maxversion}\"\n"
     ]
    }
   ],
   "source": [
    "from qiskit import *\n",
    "from qiskit import QuantumCircuit\n",
    "from qiskit import transpile\n",
    "from qiskit_aer import Aer\n",
    "from qiskit.quantum_info import Statevector\n",
    "from qiskit.visualization import plot_histogram\n",
    "from qiskit.quantum_info import DensityMatrix\n",
    "from qiskit_ibm_runtime import QiskitRuntimeService\n",
    "import numpy as np\n",
    "\n",
    "service = QiskitRuntimeService(\n",
    "    channel='ibm_quantum',\n",
    "    instance='ibm-q/open/main',\n",
    "    token='7414c64492ea659aef108a78f4dc6d38737fe1d08c3d2a087333f2e500de6f50a3cb56957129c8b79c385917240c5b580019310d2ae0e9502eba0d774330b3ed'\n",
    ")"
   ]
  },
  {
   "cell_type": "code",
   "execution_count": 2,
   "metadata": {},
   "outputs": [
    {
     "data": {
      "image/png": "[encoded data removed]",
      "text/plain": [
       "<Figure size 688.597x626.08 with 1 Axes>"
      ]
     },
     "metadata": {},
     "output_type": "display_data"
    }
   ],
   "source": [
    "n_qubits = 10\n",
    "n_partition = 4\n",
    "qc = QuantumCircuit(n_qubits)\n",
    "\n",
    "# Aplicar una puerta Hadamard al primer qubit para ponerlo en superposición\n",
    "qc.h(0)\n",
    "\n",
    "# Entrelazar los qubits utilizando puertas CNOT de manera secuencial\n",
    "qc.cx(6,7)\n",
    "qc.cx(7, 8)\n",
    "for i in range(9):\n",
    "    qc.cx(i, i+1)\n",
    "\n",
    "qc.cx(3, 4)\n",
    "qc.cx(4, 5)\n",
    "\n",
    "\n",
    "display(qc.draw(output='mpl'))\n",
    "\n",
    "# Simular el estado final\n",
    "\n",
    "simulator = Aer.get_backend('statevector_simulator')\n",
    "circ = transpile(qc, simulator)\n",
    "job = simulator.run(circ)\n",
    "result = job.result()\n",
    "\n",
    "state = result.get_statevector()\n"
   ]
  },
  {
   "cell_type": "code",
   "execution_count": 3,
   "metadata": {},
   "outputs": [],
   "source": [
    "# n_qubits = 15\n",
    "# qc1 = QuantumCircuit(n_qubits)\n",
    "\n",
    "# # Aplicar compuertas de un qubit\n",
    "# for qubit in range(n_qubits):\n",
    "#     qc1.h(qubit)  # Aplicar puerta Hadamard\n",
    "\n",
    "# qc1.rx(0.5, 0)  # Puerta RX con ángulo 0.5 en el qubit 0\n",
    "# qc1.ry(0.7, 1)  # Puerta RY con ángulo 0.7 en el qubit 1\n",
    "# qc1.rz(1.2, 2)  # Puerta RZ con ángulo 1.2 en el qubit 2\n",
    "\n",
    "# # Aplicar puertas de dos qubits\n",
    "# for i in range(n_qubits - 1):\n",
    "#     qc1.cx(i, i + 1)  # Puertas CNOT en qubits adyacentes\n",
    "#     qc1.cz(i, i + 1)  # Puertas CZ en qubits adyacentes\n",
    "\n",
    "# # Añadir algunas puertas adicionales\n",
    "# qc1.swap(0, 5)  # Puerta SWAP entre qubits 0 y 5\n",
    "# qc1.swap(10, 14)  # Puerta SWAP entre qubits 10 y 14\n",
    "\n",
    "# qc1.u(1.5, 0, 0, 3)  # Puerta U en el qubit 3 (reemplaza U1)\n",
    "# qc1.u(0.4, 1.2, 0, 4)  # Puerta U en el qubit 4 (reemplaza U2)\n",
    "# qc1.u(0.3, 0.6, 1.0, 6)  # Puerta U en el qubit 6 (reemplaza U3)\n",
    "\n",
    "# # Más puertas de dos qubits\n",
    "# qc1.cx(7, 8)  # Puerta CNOT entre qubits 7 y 8\n",
    "# qc1.cz(8, 9)  # Puerta CZ entre qubits 8 y 9\n",
    "# qc1.swap(12, 13)  # Puerta SWAP entre qubits 12 y 13\n",
    "\n",
    "# # Aplicar compuertas adicionales para mayor complejidad\n",
    "# qc1.h(range(n_qubits))  # Aplicar puerta Hadamard a todos los qubits\n",
    "\n",
    "# # Dibujar el circuito\n",
    "# display(qc1.draw(output='mpl'))\n",
    "\n",
    "# # Simular el estado final\n",
    "# simulator = Aer.get_backend('statevector_simulator')\n",
    "# circ = transpile(qc1, simulator)\n",
    "# job = simulator.run(circ)\n",
    "# result = job.result()\n",
    "\n",
    "# state = result.get_statevector()\n",
    "# print(state)"
   ]
  },
  {
   "cell_type": "markdown",
   "metadata": {},
   "source": [
    "Matriz densidad reducida"
   ]
  },
  {
   "cell_type": "code",
   "execution_count": 4,
   "metadata": {},
   "outputs": [],
   "source": [
    "from qiskit.quantum_info import partial_trace\n",
    "from qiskit.quantum_info import entropy\n",
    "\n",
    "# Definir los qubits a observar\n",
    "def observed_qubits(n, n_qubits):\n",
    "    if n >= n_qubits:\n",
    "        raise ValueError(\"El número de qubits observados debe ser menor que el número total de qubits\")\n",
    "    observed_qubits = [i for i in range(n)]\n",
    "    \n",
    "    return observed_qubits\n",
    "\n",
    "\n",
    "#  Calcular la traza parcial\n",
    "reduced_density_matrix = partial_trace(state, [i for i in range(n_qubits) if i not in observed_qubits(n_partition, n_qubits)])\n",
    "\n",
    "# Obtener los valores propios de la matriz de densidad\n",
    "eigenvalues = np.linalg.eigvals(reduced_density_matrix.data)\n",
    "\n",
    "rho = DensityMatrix(reduced_density_matrix).data"
   ]
  },
  {
   "cell_type": "markdown",
   "metadata": {},
   "source": [
    "Entropia de Von Neumann"
   ]
  },
  {
   "cell_type": "code",
   "execution_count": 5,
   "metadata": {},
   "outputs": [
    {
     "name": "stdout",
     "output_type": "stream",
     "text": [
      "La entropía de von Neumann es: 1.0\n"
     ]
    }
   ],
   "source": [
    "\n",
    "# Calcular la entropía de von Neumann\n",
    "entropy_neumann = entropy(reduced_density_matrix)\n",
    "if entropy_neumann < 10**-12:\n",
    "    entropy_neumann = 0.0\n",
    "print(f\"La entropía de von Neumann es: {entropy_neumann}\")"
   ]
  },
  {
   "cell_type": "markdown",
   "metadata": {},
   "source": [
    "Entropia de Hartley"
   ]
  },
  {
   "cell_type": "code",
   "execution_count": 6,
   "metadata": {},
   "outputs": [
    {
     "name": "stdout",
     "output_type": "stream",
     "text": [
      "La entropía de Hartley es: 1.0\n"
     ]
    }
   ],
   "source": [
    "# Calcular el rango (número de valores propios no nulos)\n",
    "tolerance = 1e-10  # Para evitar problemas numéricos\n",
    "rank = np.sum(eigenvalues > tolerance)\n",
    "entropy_hertley = np.log2(rank)\n",
    "print(f\"La entropía de Hartley es: {entropy_hertley}\")"
   ]
  },
  {
   "cell_type": "markdown",
   "metadata": {},
   "source": [
    "Entropia de renyí"
   ]
  },
  {
   "cell_type": "code",
   "execution_count": 7,
   "metadata": {},
   "outputs": [
    {
     "name": "stdout",
     "output_type": "stream",
     "text": [
      "No se encontraron entropías diferentes a la de Neumann\n"
     ]
    }
   ],
   "source": [
    "def S(n):  \n",
    "    S = np.log2(np.trace(np.linalg.matrix_power(rho, n)))/(1-n)     \n",
    "    if S < 10**-12:\n",
    "        S = 0.0\n",
    "    return S.real\n",
    "\n",
    "N = 100\n",
    "\n",
    "found_different_entropy = False\n",
    "\n",
    "# Bucle para calcular las entropías\n",
    "for i in range(2, N):\n",
    "    entropy_i = S(i)\n",
    "    if abs(entropy_i - entropy_neumann) > 10**-12:\n",
    "        found_different_entropy = True\n",
    "        print(f\"La entropía de orden {i} es: {entropy_i}\")\n",
    "\n",
    "# Verificar si no se encontraron entropías diferentes\n",
    "if not found_different_entropy:\n",
    "    print(\"No se encontraron entropías diferentes a la de Neumann\")"
   ]
  }
 ],
 "metadata": {
  "kernelspec": {
   "display_name": "Python 3",
   "language": "python",
   "name": "python3"
  },
  "language_info": {
   "codemirror_mode": {
    "name": "ipython",
    "version": 3
   },
   "file_extension": ".py",
   "mimetype": "text/x-python",
   "name": "python",
   "nbconvert_exporter": "python",
   "pygments_lexer": "ipython3",
   "version": "3.10.12"
  }
 },
 "nbformat": 4,
 "nbformat_minor": 2
}
